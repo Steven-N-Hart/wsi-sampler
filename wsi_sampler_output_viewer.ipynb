{
 "cells": [
  {
   "cell_type": "markdown",
   "metadata": {},
   "source": [
    "# wsi-sampler.py run test result:\n",
    "-changed hard coded input and outputs only <br>\n",
    "-run renamed version from the command line <br>\n",
    "```bash\n",
    "ncsa-p10e4066-ofc:wsi-sampler yo$ python3 test_v0_sampler.py \n",
    "Printed 26 from /Users/yo/git_clone/ncsa_genomics/DigiPath_MLTK_data/Aperio/CMU-1-Small-Region.svs\n",
    "ncsa-p10e4066-ofc:wsi-sampler yo$ \n",
    "```\n",
    "# images produced: "
   ]
  },
  {
   "cell_type": "code",
   "execution_count": null,
   "metadata": {},
   "outputs": [],
   "source": [
    "import os\n",
    "from PIL import Image"
   ]
  },
  {
   "cell_type": "code",
   "execution_count": null,
   "metadata": {},
   "outputs": [],
   "source": [
    "output_dir = '/Users/yo/git_clone/ncsa_genomics/wsi_sampler_data/test_results/'\n",
    "file_ext = '.jpg'\n",
    "for f_name in os.listdir(output_dir):\n",
    "    _, f_xt = os.path.splitext(f_name)\n",
    "    if f_xt == file_ext:\n",
    "        full_file_name = os.path.join(output_dir, f_name)\n",
    "        if os.path.isfile(full_file_name):\n",
    "            im = Image.open(full_file_name)\n",
    "            print('\\n', f_name, im.size)\n",
    "            display(im)"
   ]
  },
  {
   "cell_type": "code",
   "execution_count": null,
   "metadata": {},
   "outputs": [],
   "source": []
  }
 ],
 "metadata": {
  "kernelspec": {
   "display_name": "Python 3",
   "language": "python",
   "name": "python3"
  },
  "language_info": {
   "codemirror_mode": {
    "name": "ipython",
    "version": 3
   },
   "file_extension": ".py",
   "mimetype": "text/x-python",
   "name": "python",
   "nbconvert_exporter": "python",
   "pygments_lexer": "ipython3",
   "version": "3.6.5"
  }
 },
 "nbformat": 4,
 "nbformat_minor": 2
}
